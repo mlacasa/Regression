{
  "nbformat": 4,
  "nbformat_minor": 0,
  "metadata": {
    "colab": {
      "name": "p-valuePearson.ipynb",
      "provenance": [],
      "collapsed_sections": [],
      "authorship_tag": "ABX9TyNpAkxjg94NuLu+Vj3X5ry+",
      "include_colab_link": true
    },
    "kernelspec": {
      "name": "python3",
      "display_name": "Python 3"
    },
    "language_info": {
      "name": "python"
    }
  },
  "cells": [
    {
      "cell_type": "markdown",
      "metadata": {
        "id": "view-in-github",
        "colab_type": "text"
      },
      "source": [
        "<a href=\"https://colab.research.google.com/github/mlacasa/Regression/blob/main/p_valuePearson.ipynb\" target=\"_parent\"><img src=\"https://colab.research.google.com/assets/colab-badge.svg\" alt=\"Open In Colab\"/></a>"
      ]
    },
    {
      "cell_type": "code",
      "source": [
        "import numpy as np\n",
        "import seaborn as sns\n",
        "from scipy import stats"
      ],
      "metadata": {
        "id": "zZhsViJfLDk2"
      },
      "execution_count": null,
      "outputs": []
    },
    {
      "cell_type": "code",
      "execution_count": null,
      "metadata": {
        "id": "igqpWzE8K-VT"
      },
      "outputs": [],
      "source": [
        "# Creamos una dataset que pase test de normalidad\n",
        "\n",
        "x = np.random.normal(3,3,20)\n",
        "y = [3*x for x in x]"
      ]
    },
    {
      "cell_type": "code",
      "source": [
        "sns.scatterplot(x = x, y = y)"
      ],
      "metadata": {
        "colab": {
          "base_uri": "https://localhost:8080/",
          "height": 287
        },
        "id": "o3SeDRGOLjTs",
        "outputId": "d2a938f2-8e60-45cb-d3ce-2db64e8ac452"
      },
      "execution_count": null,
      "outputs": [
        {
          "output_type": "execute_result",
          "data": {
            "text/plain": [
              "<matplotlib.axes._subplots.AxesSubplot at 0x7f1ebd51dc10>"
            ]
          },
          "metadata": {},
          "execution_count": 3
        },
        {
          "output_type": "display_data",
          "data": {
            "image/png": "[encoded data removed]",
            "text/plain": [
              "<Figure size 432x288 with 1 Axes>"
            ]
          },
          "metadata": {
            "needs_background": "light"
          }
        }
      ]
    },
    {
      "cell_type": "code",
      "source": [
        "# si p-value > 0.05 -> distr normal\n",
        "k2, p = stats.normaltest(y)\n",
        "p"
      ],
      "metadata": {
        "colab": {
          "base_uri": "https://localhost:8080/"
        },
        "id": "cBp4A-18Lyfk",
        "outputId": "d9cff2a1-8c71-4eae-f265-f631524d436f"
      },
      "execution_count": null,
      "outputs": [
        {
          "output_type": "execute_result",
          "data": {
            "text/plain": [
              "0.670278865584788"
            ]
          },
          "metadata": {},
          "execution_count": 4
        }
      ]
    },
    {
      "cell_type": "code",
      "source": [
        "k2, p = stats.normaltest(x) # obvio, ya que es distr normal\n",
        "p"
      ],
      "metadata": {
        "colab": {
          "base_uri": "https://localhost:8080/"
        },
        "id": "byUG6XrC2985",
        "outputId": "f9cff1f9-1e6e-436a-88cb-73dade1a6e0e"
      },
      "execution_count": null,
      "outputs": [
        {
          "output_type": "execute_result",
          "data": {
            "text/plain": [
              "0.670278865584788"
            ]
          },
          "metadata": {},
          "execution_count": 5
        }
      ]
    },
    {
      "cell_type": "code",
      "source": [
        "# Correlación Pearson\n",
        "print('La correlación es: ',stats.pearsonr(x,y)[0], 'y la p-value es: ', stats.pearsonr(x,y)[1])"
      ],
      "metadata": {
        "colab": {
          "base_uri": "https://localhost:8080/"
        },
        "id": "X3QjFy5MMAjU",
        "outputId": "ba974847-448a-4bf0-e3dc-24725fbfee75"
      },
      "execution_count": null,
      "outputs": [
        {
          "output_type": "stream",
          "name": "stdout",
          "text": [
            "La correlación es:  0.9999999999999999 y la p-value es:  2.4335320021950577e-142\n"
          ]
        }
      ]
    },
    {
      "cell_type": "code",
      "source": [
        "# Se añaden 2 puntos que siguen la proporción pero muy alejados, outliers\n",
        "x=np.append(x,[30,40])\n",
        "y=np.append(y,[90,120])"
      ],
      "metadata": {
        "id": "k-mQrvc3Wo5O"
      },
      "execution_count": null,
      "outputs": []
    },
    {
      "cell_type": "code",
      "source": [
        "sns.scatterplot(x = x, y = y)"
      ],
      "metadata": {
        "colab": {
          "base_uri": "https://localhost:8080/",
          "height": 283
        },
        "id": "CL57OqNRYXSo",
        "outputId": "47d108be-f062-4d83-e7e0-edaaf658eb12"
      },
      "execution_count": null,
      "outputs": [
        {
          "output_type": "execute_result",
          "data": {
            "text/plain": [
              "<matplotlib.axes._subplots.AxesSubplot at 0x7f1ebd450f90>"
            ]
          },
          "metadata": {},
          "execution_count": 8
        },
        {
          "output_type": "display_data",
          "data": {
            "image/png": "[encoded data removed]",
            "text/plain": [
              "<Figure size 432x288 with 1 Axes>"
            ]
          },
          "metadata": {
            "needs_background": "light"
          }
        }
      ]
    },
    {
      "cell_type": "code",
      "source": [
        "# Correlación Pearson\n",
        "print('La correlación es: ',stats.pearsonr(x,y)[0], 'y la p-value es: ', stats.pearsonr(x,y)[1])"
      ],
      "metadata": {
        "colab": {
          "base_uri": "https://localhost:8080/"
        },
        "id": "qyoWiZA-Yds1",
        "outputId": "9590627f-91d1-4791-b40b-9605ccd33e51"
      },
      "execution_count": null,
      "outputs": [
        {
          "output_type": "stream",
          "name": "stdout",
          "text": [
            "La correlación es:  1.0 y la p-value es:  0.0\n"
          ]
        }
      ]
    },
    {
      "cell_type": "code",
      "source": [
        "# Añadimos 2 aoutliers\n",
        "y[2] = 250\n",
        "y[4] = 250"
      ],
      "metadata": {
        "id": "eiWPC-rMMq0d"
      },
      "execution_count": null,
      "outputs": []
    },
    {
      "cell_type": "code",
      "source": [
        "sns.scatterplot(x = x, y = y)"
      ],
      "metadata": {
        "colab": {
          "base_uri": "https://localhost:8080/",
          "height": 283
        },
        "id": "ZniV7niTNrS1",
        "outputId": "a932dca9-e8a4-48e2-d98c-d6fd8e2a5750"
      },
      "execution_count": null,
      "outputs": [
        {
          "output_type": "execute_result",
          "data": {
            "text/plain": [
              "<matplotlib.axes._subplots.AxesSubplot at 0x7f1ebcf8b810>"
            ]
          },
          "metadata": {},
          "execution_count": 11
        },
        {
          "output_type": "display_data",
          "data": {
            "image/png": "[encoded data removed]",
            "text/plain": [
              "<Figure size 432x288 with 1 Axes>"
            ]
          },
          "metadata": {
            "needs_background": "light"
          }
        }
      ]
    },
    {
      "cell_type": "code",
      "source": [
        "# Correlación Pearson\n",
        "print('La correlación es: ',stats.pearsonr(x,y)[0], 'y la p-value es: ', stats.pearsonr(x,y)[1])"
      ],
      "metadata": {
        "colab": {
          "base_uri": "https://localhost:8080/"
        },
        "id": "StRGMdEdNx5N",
        "outputId": "6a85ecec-9144-4a1d-a180-1d4e13a30613"
      },
      "execution_count": null,
      "outputs": [
        {
          "output_type": "stream",
          "name": "stdout",
          "text": [
            "La correlación es:  0.27640515973806434 y la p-value es:  0.213053749802436\n"
          ]
        }
      ]
    },
    {
      "cell_type": "code",
      "source": [
        "x = np.random.normal(3,3,100)\n",
        "y = [3*x for x in x]"
      ],
      "metadata": {
        "id": "jPXMvUG4OXet"
      },
      "execution_count": null,
      "outputs": []
    },
    {
      "cell_type": "code",
      "source": [
        "sns.scatterplot(x = x, y = y)"
      ],
      "metadata": {
        "colab": {
          "base_uri": "https://localhost:8080/",
          "height": 283
        },
        "id": "rrU78zRt01GG",
        "outputId": "21efb5eb-10fe-4df8-b900-0b98aca8decc"
      },
      "execution_count": null,
      "outputs": [
        {
          "output_type": "execute_result",
          "data": {
            "text/plain": [
              "<matplotlib.axes._subplots.AxesSubplot at 0x7f1ebceffb90>"
            ]
          },
          "metadata": {},
          "execution_count": 14
        },
        {
          "output_type": "display_data",
          "data": {
            "image/png": "[encoded data removed]",
            "text/plain": [
              "<Figure size 432x288 with 1 Axes>"
            ]
          },
          "metadata": {
            "needs_background": "light"
          }
        }
      ]
    },
    {
      "cell_type": "code",
      "source": [
        "# Añadimos 2 aoutliers\n",
        "y[2] = 250\n",
        "y[4] = 250"
      ],
      "metadata": {
        "id": "OTXvmIZj05Pv"
      },
      "execution_count": null,
      "outputs": []
    },
    {
      "cell_type": "code",
      "source": [
        "sns.scatterplot(x = x, y = y)"
      ],
      "metadata": {
        "colab": {
          "base_uri": "https://localhost:8080/",
          "height": 283
        },
        "id": "fl6qtoHY1VNo",
        "outputId": "3bdcb961-e059-4fbc-f289-bff5f41dd454"
      },
      "execution_count": null,
      "outputs": [
        {
          "output_type": "execute_result",
          "data": {
            "text/plain": [
              "<matplotlib.axes._subplots.AxesSubplot at 0x7f1ebcf08890>"
            ]
          },
          "metadata": {},
          "execution_count": 16
        },
        {
          "output_type": "display_data",
          "data": {
            "image/png": "[encoded data removed]",
            "text/plain": [
              "<Figure size 432x288 with 1 Axes>"
            ]
          },
          "metadata": {
            "needs_background": "light"
          }
        }
      ]
    },
    {
      "cell_type": "code",
      "source": [
        "k2, p = stats.normaltest(y)\n",
        "p"
      ],
      "metadata": {
        "colab": {
          "base_uri": "https://localhost:8080/"
        },
        "id": "g_8xk2b81qlF",
        "outputId": "8d6eac4c-2ca4-4222-9702-d36f81c473f3"
      },
      "execution_count": null,
      "outputs": [
        {
          "output_type": "execute_result",
          "data": {
            "text/plain": [
              "2.680712164124425e-35"
            ]
          },
          "metadata": {},
          "execution_count": 17
        }
      ]
    },
    {
      "cell_type": "code",
      "source": [
        "print('La correlación es: ',stats.pearsonr(x,y)[0], 'y la p-value es: ', stats.pearsonr(x,y)[1])"
      ],
      "metadata": {
        "colab": {
          "base_uri": "https://localhost:8080/"
        },
        "id": "Sm0Itc0L1X-O",
        "outputId": "56b3577a-68d9-49de-bc8f-cdf76159c610"
      },
      "execution_count": null,
      "outputs": [
        {
          "output_type": "stream",
          "name": "stdout",
          "text": [
            "La correlación es:  0.2399615781245735 y la p-value es:  0.01618606417495058\n"
          ]
        }
      ]
    },
    {
      "cell_type": "code",
      "source": [
        "# Añadimos 2 aoutliers\n",
        "for i in range(10,99,10):\n",
        "  y[i] = 250\n"
      ],
      "metadata": {
        "id": "21pmAWiE3RSL"
      },
      "execution_count": null,
      "outputs": []
    },
    {
      "cell_type": "code",
      "source": [
        "sns.scatterplot(x = x, y = y)"
      ],
      "metadata": {
        "colab": {
          "base_uri": "https://localhost:8080/",
          "height": 283
        },
        "id": "dDeLXJd-3xoo",
        "outputId": "27d3791a-4d71-4bc7-ffed-5f3f9d3616c0"
      },
      "execution_count": null,
      "outputs": [
        {
          "output_type": "execute_result",
          "data": {
            "text/plain": [
              "<matplotlib.axes._subplots.AxesSubplot at 0x7f1ebcde1110>"
            ]
          },
          "metadata": {},
          "execution_count": 20
        },
        {
          "output_type": "display_data",
          "data": {
            "image/png": "[encoded data removed]",
            "text/plain": [
              "<Figure size 432x288 with 1 Axes>"
            ]
          },
          "metadata": {
            "needs_background": "light"
          }
        }
      ]
    },
    {
      "cell_type": "code",
      "source": [
        "print('La correlación es: ',stats.pearsonr(x,y)[0], 'y la p-value es: ', stats.pearsonr(x,y)[1])"
      ],
      "metadata": {
        "colab": {
          "base_uri": "https://localhost:8080/"
        },
        "id": "C6yNn6XQ4BvJ",
        "outputId": "0e2d8f35-6d0b-4dd3-c69d-085ae67ac84c"
      },
      "execution_count": null,
      "outputs": [
        {
          "output_type": "stream",
          "name": "stdout",
          "text": [
            "La correlación es:  0.21502098420163251 y la p-value es:  0.03168414192330537\n"
          ]
        }
      ]
    },
    {
      "cell_type": "code",
      "source": [
        "k2, p = stats.normaltest(y)\n",
        "p"
      ],
      "metadata": {
        "colab": {
          "base_uri": "https://localhost:8080/"
        },
        "id": "uDSwZBgg5FGz",
        "outputId": "de55eb36-7c1f-430f-a1eb-53f78abd7dfd"
      },
      "execution_count": null,
      "outputs": [
        {
          "output_type": "execute_result",
          "data": {
            "text/plain": [
              "5.474988923829674e-14"
            ]
          },
          "metadata": {},
          "execution_count": 22
        }
      ]
    },
    {
      "cell_type": "code",
      "source": [
        "print('La correlación es: ',stats.spearmanr(x,y)[0], 'y la p-value es: ', stats.spearmanr(x,y)[1])"
      ],
      "metadata": {
        "colab": {
          "base_uri": "https://localhost:8080/"
        },
        "id": "2qas4VxQ4Fn6",
        "outputId": "eba6065d-7afb-4dd6-b956-19ec7e97bf08"
      },
      "execution_count": null,
      "outputs": [
        {
          "output_type": "stream",
          "name": "stdout",
          "text": [
            "La correlación es:  0.8863578251426925 y la p-value es:  1.5256325303321085e-34\n"
          ]
        }
      ]
    }
  ]
}